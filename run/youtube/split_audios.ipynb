{
 "cells": [
  {
   "cell_type": "code",
   "execution_count": 1,
   "metadata": {},
   "outputs": [],
   "source": [
    "import os\n",
    "\n",
    "# Change to the root directory (one level up from 'test')\n",
    "os.chdir('..')"
   ]
  },
  {
   "cell_type": "code",
   "execution_count": 2,
   "metadata": {},
   "outputs": [
    {
     "name": "stdout",
     "output_type": "stream",
     "text": [
      "d:\\Projects\\3. Latex\n"
     ]
    }
   ],
   "source": [
    "folder_path = os.getcwd()\n",
    "print(folder_path)"
   ]
  },
  {
   "cell_type": "code",
   "execution_count": null,
   "metadata": {},
   "outputs": [],
   "source": [
    "from utils.split_audios import process_audio_files_in_nested_folder"
   ]
  },
  {
   "cell_type": "code",
   "execution_count": null,
   "metadata": {},
   "outputs": [],
   "source": [
    "# Input and output paths\n",
    "input_folder = folder_path + ''\n",
    "output_base_dir = folder_path + ''\n",
    "\n",
    "print(f\"Starting to process files in folder: {input_folder}\")\n",
    "process_audio_files_in_nested_folder(\n",
    "    input_folder, output_base_dir, min_length=10, max_length=15\n",
    ")\n",
    "print(f\"Results have been saved in folder: {output_base_dir}\")"
   ]
  }
 ],
 "metadata": {
  "kernelspec": {
   "display_name": "latex_asr",
   "language": "python",
   "name": "python3"
  },
  "language_info": {
   "codemirror_mode": {
    "name": "ipython",
    "version": 3
   },
   "file_extension": ".py",
   "mimetype": "text/x-python",
   "name": "python",
   "nbconvert_exporter": "python",
   "pygments_lexer": "ipython3",
   "version": "3.12.7"
  }
 },
 "nbformat": 4,
 "nbformat_minor": 2
}
