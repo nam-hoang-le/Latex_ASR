{
 "cells": [
  {
   "cell_type": "code",
   "execution_count": null,
   "metadata": {},
   "outputs": [],
   "source": [
    "import os\n",
    "\n",
    "# Change to the root directory (one level up from 'test')\n",
    "os.chdir('../..')"
   ]
  },
  {
   "cell_type": "code",
   "execution_count": null,
   "metadata": {},
   "outputs": [],
   "source": [
    "folder_path = os.getcwd()\n",
    "print(folder_path)"
   ]
  },
  {
   "cell_type": "code",
   "execution_count": null,
   "metadata": {},
   "outputs": [],
   "source": [
    "import pandas as pd \n",
    "from utils.youtube.crawl_audio import download_playlist_audios"
   ]
  },
  {
   "cell_type": "code",
   "execution_count": null,
   "metadata": {},
   "outputs": [],
   "source": [
    "data = pd.read_excel('data/update_courses.xlsx', sheet_name='Mathematics')\n",
    "data.head()"
   ]
  },
  {
   "cell_type": "code",
   "execution_count": null,
   "metadata": {},
   "outputs": [],
   "source": [
    "schools = []\n",
    "titles = []\n",
    "links = []\n",
    "for idx, row in data.iterrows():\n",
    "    school = row['School']\n",
    "    title = row['Title']\n",
    "    link = row['Link']\n",
    "    schools.append(school)\n",
    "    titles.append(title)\n",
    "    links.append(link)\n",
    "    # print(link)\n",
    "audio_folder = r'D:\\Projects\\3. Latex\\Latex_ASR\\data\\audio\\mathematics'\n",
    "json_output_path = r'D:\\Projects\\3. Latex\\Latex_ASR\\data\\mapping\\audio_mapping_robotics.json'    \n",
    "\n",
    "download_playlist_audios(links, audio_folder, schools, titles, json_output_path)"
   ]
  }
 ],
 "metadata": {
  "language_info": {
   "name": "python"
  }
 },
 "nbformat": 4,
 "nbformat_minor": 2
}
